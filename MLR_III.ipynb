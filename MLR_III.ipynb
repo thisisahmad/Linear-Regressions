{
  "cells": [
    {
      "cell_type": "markdown",
      "metadata": {
        "tags": [],
        "id": "jN2uCHIB-T3x"
      },
      "source": [
        "# Lecture 13 – Data Science\n"
      ]
    },
    {
      "cell_type": "code",
      "execution_count": null,
      "metadata": {
        "id": "m27Hx0RV-T30"
      },
      "outputs": [],
      "source": [
        "import numpy as np\n",
        "import pandas as pd\n",
        "import matplotlib.pyplot as plt\n",
        "%matplotlib inline\n",
        "import seaborn as sns"
      ]
    },
    {
      "cell_type": "markdown",
      "metadata": {
        "id": "kKq6JD8j-T32"
      },
      "source": [
        "## Multiple Linear Regression"
      ]
    },
    {
      "cell_type": "markdown",
      "metadata": {
        "id": "hORZvCn_-T32"
      },
      "source": [
        "Let's load in a new dataset. This is aggregate per-player data from the 2018-19 NBA season, downloaded from [Kaggle](https://www.kaggle.com/schmadam97/nba-regular-season-stats-20182019)."
      ]
    },
    {
      "cell_type": "code",
      "execution_count": null,
      "metadata": {
        "id": "inHnfKIz-T32"
      },
      "outputs": [],
      "source": [
        "nba = pd.read_csv('nba18-19.csv')"
      ]
    },
    {
      "cell_type": "code",
      "execution_count": null,
      "metadata": {
        "id": "znW-7RDk-T33",
        "outputId": "3ddb2e75-e184-41d5-f13f-1a3247e06a3f",
        "colab": {
          "base_uri": "https://localhost:8080/",
          "height": 235
        }
      },
      "outputs": [
        {
          "output_type": "execute_result",
          "data": {
            "text/plain": [
              "   Rk                  Player Pos  Age   Tm   G  GS    MP   FG   FGA  ...  \\\n",
              "0   1  Álex Abrines\\abrinal01  SG   25  OKC  31   2  19.0  1.8   5.1  ...   \n",
              "1   2      Quincy Acy\\acyqu01  PF   28  PHO  10   0  12.3  0.4   1.8  ...   \n",
              "2   3  Jaylen Adams\\adamsja01  PG   22  ATL  34   1  12.6  1.1   3.2  ...   \n",
              "3   4  Steven Adams\\adamsst01   C   25  OKC  80  80  33.4  6.0  10.1  ...   \n",
              "4   5   Bam Adebayo\\adebaba01   C   21  MIA  82  28  23.3  3.4   5.9  ...   \n",
              "\n",
              "     FT%  ORB  DRB  TRB  AST  STL  BLK  TOV   PF   PTS  \n",
              "0  0.923  0.2  1.4  1.5  0.6  0.5  0.2  0.5  1.7   5.3  \n",
              "1  0.700  0.3  2.2  2.5  0.8  0.1  0.4  0.4  2.4   1.7  \n",
              "2  0.778  0.3  1.4  1.8  1.9  0.4  0.1  0.8  1.3   3.2  \n",
              "3  0.500  4.9  4.6  9.5  1.6  1.5  1.0  1.7  2.6  13.9  \n",
              "4  0.735  2.0  5.3  7.3  2.2  0.9  0.8  1.5  2.5   8.9  \n",
              "\n",
              "[5 rows x 30 columns]"
            ],
            "text/html": [
              "\n",
              "  <div id=\"df-2ed01a51-06b3-45c7-a127-e468df603c8a\" class=\"colab-df-container\">\n",
              "    <div>\n",
              "<style scoped>\n",
              "    .dataframe tbody tr th:only-of-type {\n",
              "        vertical-align: middle;\n",
              "    }\n",
              "\n",
              "    .dataframe tbody tr th {\n",
              "        vertical-align: top;\n",
              "    }\n",
              "\n",
              "    .dataframe thead th {\n",
              "        text-align: right;\n",
              "    }\n",
              "</style>\n",
              "<table border=\"1\" class=\"dataframe\">\n",
              "  <thead>\n",
              "    <tr style=\"text-align: right;\">\n",
              "      <th></th>\n",
              "      <th>Rk</th>\n",
              "      <th>Player</th>\n",
              "      <th>Pos</th>\n",
              "      <th>Age</th>\n",
              "      <th>Tm</th>\n",
              "      <th>G</th>\n",
              "      <th>GS</th>\n",
              "      <th>MP</th>\n",
              "      <th>FG</th>\n",
              "      <th>FGA</th>\n",
              "      <th>...</th>\n",
              "      <th>FT%</th>\n",
              "      <th>ORB</th>\n",
              "      <th>DRB</th>\n",
              "      <th>TRB</th>\n",
              "      <th>AST</th>\n",
              "      <th>STL</th>\n",
              "      <th>BLK</th>\n",
              "      <th>TOV</th>\n",
              "      <th>PF</th>\n",
              "      <th>PTS</th>\n",
              "    </tr>\n",
              "  </thead>\n",
              "  <tbody>\n",
              "    <tr>\n",
              "      <th>0</th>\n",
              "      <td>1</td>\n",
              "      <td>Álex Abrines\\abrinal01</td>\n",
              "      <td>SG</td>\n",
              "      <td>25</td>\n",
              "      <td>OKC</td>\n",
              "      <td>31</td>\n",
              "      <td>2</td>\n",
              "      <td>19.0</td>\n",
              "      <td>1.8</td>\n",
              "      <td>5.1</td>\n",
              "      <td>...</td>\n",
              "      <td>0.923</td>\n",
              "      <td>0.2</td>\n",
              "      <td>1.4</td>\n",
              "      <td>1.5</td>\n",
              "      <td>0.6</td>\n",
              "      <td>0.5</td>\n",
              "      <td>0.2</td>\n",
              "      <td>0.5</td>\n",
              "      <td>1.7</td>\n",
              "      <td>5.3</td>\n",
              "    </tr>\n",
              "    <tr>\n",
              "      <th>1</th>\n",
              "      <td>2</td>\n",
              "      <td>Quincy Acy\\acyqu01</td>\n",
              "      <td>PF</td>\n",
              "      <td>28</td>\n",
              "      <td>PHO</td>\n",
              "      <td>10</td>\n",
              "      <td>0</td>\n",
              "      <td>12.3</td>\n",
              "      <td>0.4</td>\n",
              "      <td>1.8</td>\n",
              "      <td>...</td>\n",
              "      <td>0.700</td>\n",
              "      <td>0.3</td>\n",
              "      <td>2.2</td>\n",
              "      <td>2.5</td>\n",
              "      <td>0.8</td>\n",
              "      <td>0.1</td>\n",
              "      <td>0.4</td>\n",
              "      <td>0.4</td>\n",
              "      <td>2.4</td>\n",
              "      <td>1.7</td>\n",
              "    </tr>\n",
              "    <tr>\n",
              "      <th>2</th>\n",
              "      <td>3</td>\n",
              "      <td>Jaylen Adams\\adamsja01</td>\n",
              "      <td>PG</td>\n",
              "      <td>22</td>\n",
              "      <td>ATL</td>\n",
              "      <td>34</td>\n",
              "      <td>1</td>\n",
              "      <td>12.6</td>\n",
              "      <td>1.1</td>\n",
              "      <td>3.2</td>\n",
              "      <td>...</td>\n",
              "      <td>0.778</td>\n",
              "      <td>0.3</td>\n",
              "      <td>1.4</td>\n",
              "      <td>1.8</td>\n",
              "      <td>1.9</td>\n",
              "      <td>0.4</td>\n",
              "      <td>0.1</td>\n",
              "      <td>0.8</td>\n",
              "      <td>1.3</td>\n",
              "      <td>3.2</td>\n",
              "    </tr>\n",
              "    <tr>\n",
              "      <th>3</th>\n",
              "      <td>4</td>\n",
              "      <td>Steven Adams\\adamsst01</td>\n",
              "      <td>C</td>\n",
              "      <td>25</td>\n",
              "      <td>OKC</td>\n",
              "      <td>80</td>\n",
              "      <td>80</td>\n",
              "      <td>33.4</td>\n",
              "      <td>6.0</td>\n",
              "      <td>10.1</td>\n",
              "      <td>...</td>\n",
              "      <td>0.500</td>\n",
              "      <td>4.9</td>\n",
              "      <td>4.6</td>\n",
              "      <td>9.5</td>\n",
              "      <td>1.6</td>\n",
              "      <td>1.5</td>\n",
              "      <td>1.0</td>\n",
              "      <td>1.7</td>\n",
              "      <td>2.6</td>\n",
              "      <td>13.9</td>\n",
              "    </tr>\n",
              "    <tr>\n",
              "      <th>4</th>\n",
              "      <td>5</td>\n",
              "      <td>Bam Adebayo\\adebaba01</td>\n",
              "      <td>C</td>\n",
              "      <td>21</td>\n",
              "      <td>MIA</td>\n",
              "      <td>82</td>\n",
              "      <td>28</td>\n",
              "      <td>23.3</td>\n",
              "      <td>3.4</td>\n",
              "      <td>5.9</td>\n",
              "      <td>...</td>\n",
              "      <td>0.735</td>\n",
              "      <td>2.0</td>\n",
              "      <td>5.3</td>\n",
              "      <td>7.3</td>\n",
              "      <td>2.2</td>\n",
              "      <td>0.9</td>\n",
              "      <td>0.8</td>\n",
              "      <td>1.5</td>\n",
              "      <td>2.5</td>\n",
              "      <td>8.9</td>\n",
              "    </tr>\n",
              "  </tbody>\n",
              "</table>\n",
              "<p>5 rows × 30 columns</p>\n",
              "</div>\n",
              "    <div class=\"colab-df-buttons\">\n",
              "\n",
              "  <div class=\"colab-df-container\">\n",
              "    <button class=\"colab-df-convert\" onclick=\"convertToInteractive('df-2ed01a51-06b3-45c7-a127-e468df603c8a')\"\n",
              "            title=\"Convert this dataframe to an interactive table.\"\n",
              "            style=\"display:none;\">\n",
              "\n",
              "  <svg xmlns=\"http://www.w3.org/2000/svg\" height=\"24px\" viewBox=\"0 -960 960 960\">\n",
              "    <path d=\"M120-120v-720h720v720H120Zm60-500h600v-160H180v160Zm220 220h160v-160H400v160Zm0 220h160v-160H400v160ZM180-400h160v-160H180v160Zm440 0h160v-160H620v160ZM180-180h160v-160H180v160Zm440 0h160v-160H620v160Z\"/>\n",
              "  </svg>\n",
              "    </button>\n",
              "\n",
              "  <style>\n",
              "    .colab-df-container {\n",
              "      display:flex;\n",
              "      gap: 12px;\n",
              "    }\n",
              "\n",
              "    .colab-df-convert {\n",
              "      background-color: #E8F0FE;\n",
              "      border: none;\n",
              "      border-radius: 50%;\n",
              "      cursor: pointer;\n",
              "      display: none;\n",
              "      fill: #1967D2;\n",
              "      height: 32px;\n",
              "      padding: 0 0 0 0;\n",
              "      width: 32px;\n",
              "    }\n",
              "\n",
              "    .colab-df-convert:hover {\n",
              "      background-color: #E2EBFA;\n",
              "      box-shadow: 0px 1px 2px rgba(60, 64, 67, 0.3), 0px 1px 3px 1px rgba(60, 64, 67, 0.15);\n",
              "      fill: #174EA6;\n",
              "    }\n",
              "\n",
              "    .colab-df-buttons div {\n",
              "      margin-bottom: 4px;\n",
              "    }\n",
              "\n",
              "    [theme=dark] .colab-df-convert {\n",
              "      background-color: #3B4455;\n",
              "      fill: #D2E3FC;\n",
              "    }\n",
              "\n",
              "    [theme=dark] .colab-df-convert:hover {\n",
              "      background-color: #434B5C;\n",
              "      box-shadow: 0px 1px 3px 1px rgba(0, 0, 0, 0.15);\n",
              "      filter: drop-shadow(0px 1px 2px rgba(0, 0, 0, 0.3));\n",
              "      fill: #FFFFFF;\n",
              "    }\n",
              "  </style>\n",
              "\n",
              "    <script>\n",
              "      const buttonEl =\n",
              "        document.querySelector('#df-2ed01a51-06b3-45c7-a127-e468df603c8a button.colab-df-convert');\n",
              "      buttonEl.style.display =\n",
              "        google.colab.kernel.accessAllowed ? 'block' : 'none';\n",
              "\n",
              "      async function convertToInteractive(key) {\n",
              "        const element = document.querySelector('#df-2ed01a51-06b3-45c7-a127-e468df603c8a');\n",
              "        const dataTable =\n",
              "          await google.colab.kernel.invokeFunction('convertToInteractive',\n",
              "                                                    [key], {});\n",
              "        if (!dataTable) return;\n",
              "\n",
              "        const docLinkHtml = 'Like what you see? Visit the ' +\n",
              "          '<a target=\"_blank\" href=https://colab.research.google.com/notebooks/data_table.ipynb>data table notebook</a>'\n",
              "          + ' to learn more about interactive tables.';\n",
              "        element.innerHTML = '';\n",
              "        dataTable['output_type'] = 'display_data';\n",
              "        await google.colab.output.renderOutput(dataTable, element);\n",
              "        const docLink = document.createElement('div');\n",
              "        docLink.innerHTML = docLinkHtml;\n",
              "        element.appendChild(docLink);\n",
              "      }\n",
              "    </script>\n",
              "  </div>\n",
              "\n",
              "\n",
              "<div id=\"df-41a863fa-c196-4825-9b61-17f94800cecb\">\n",
              "  <button class=\"colab-df-quickchart\" onclick=\"quickchart('df-41a863fa-c196-4825-9b61-17f94800cecb')\"\n",
              "            title=\"Suggest charts\"\n",
              "            style=\"display:none;\">\n",
              "\n",
              "<svg xmlns=\"http://www.w3.org/2000/svg\" height=\"24px\"viewBox=\"0 0 24 24\"\n",
              "     width=\"24px\">\n",
              "    <g>\n",
              "        <path d=\"M19 3H5c-1.1 0-2 .9-2 2v14c0 1.1.9 2 2 2h14c1.1 0 2-.9 2-2V5c0-1.1-.9-2-2-2zM9 17H7v-7h2v7zm4 0h-2V7h2v10zm4 0h-2v-4h2v4z\"/>\n",
              "    </g>\n",
              "</svg>\n",
              "  </button>\n",
              "\n",
              "<style>\n",
              "  .colab-df-quickchart {\n",
              "      --bg-color: #E8F0FE;\n",
              "      --fill-color: #1967D2;\n",
              "      --hover-bg-color: #E2EBFA;\n",
              "      --hover-fill-color: #174EA6;\n",
              "      --disabled-fill-color: #AAA;\n",
              "      --disabled-bg-color: #DDD;\n",
              "  }\n",
              "\n",
              "  [theme=dark] .colab-df-quickchart {\n",
              "      --bg-color: #3B4455;\n",
              "      --fill-color: #D2E3FC;\n",
              "      --hover-bg-color: #434B5C;\n",
              "      --hover-fill-color: #FFFFFF;\n",
              "      --disabled-bg-color: #3B4455;\n",
              "      --disabled-fill-color: #666;\n",
              "  }\n",
              "\n",
              "  .colab-df-quickchart {\n",
              "    background-color: var(--bg-color);\n",
              "    border: none;\n",
              "    border-radius: 50%;\n",
              "    cursor: pointer;\n",
              "    display: none;\n",
              "    fill: var(--fill-color);\n",
              "    height: 32px;\n",
              "    padding: 0;\n",
              "    width: 32px;\n",
              "  }\n",
              "\n",
              "  .colab-df-quickchart:hover {\n",
              "    background-color: var(--hover-bg-color);\n",
              "    box-shadow: 0 1px 2px rgba(60, 64, 67, 0.3), 0 1px 3px 1px rgba(60, 64, 67, 0.15);\n",
              "    fill: var(--button-hover-fill-color);\n",
              "  }\n",
              "\n",
              "  .colab-df-quickchart-complete:disabled,\n",
              "  .colab-df-quickchart-complete:disabled:hover {\n",
              "    background-color: var(--disabled-bg-color);\n",
              "    fill: var(--disabled-fill-color);\n",
              "    box-shadow: none;\n",
              "  }\n",
              "\n",
              "  .colab-df-spinner {\n",
              "    border: 2px solid var(--fill-color);\n",
              "    border-color: transparent;\n",
              "    border-bottom-color: var(--fill-color);\n",
              "    animation:\n",
              "      spin 1s steps(1) infinite;\n",
              "  }\n",
              "\n",
              "  @keyframes spin {\n",
              "    0% {\n",
              "      border-color: transparent;\n",
              "      border-bottom-color: var(--fill-color);\n",
              "      border-left-color: var(--fill-color);\n",
              "    }\n",
              "    20% {\n",
              "      border-color: transparent;\n",
              "      border-left-color: var(--fill-color);\n",
              "      border-top-color: var(--fill-color);\n",
              "    }\n",
              "    30% {\n",
              "      border-color: transparent;\n",
              "      border-left-color: var(--fill-color);\n",
              "      border-top-color: var(--fill-color);\n",
              "      border-right-color: var(--fill-color);\n",
              "    }\n",
              "    40% {\n",
              "      border-color: transparent;\n",
              "      border-right-color: var(--fill-color);\n",
              "      border-top-color: var(--fill-color);\n",
              "    }\n",
              "    60% {\n",
              "      border-color: transparent;\n",
              "      border-right-color: var(--fill-color);\n",
              "    }\n",
              "    80% {\n",
              "      border-color: transparent;\n",
              "      border-right-color: var(--fill-color);\n",
              "      border-bottom-color: var(--fill-color);\n",
              "    }\n",
              "    90% {\n",
              "      border-color: transparent;\n",
              "      border-bottom-color: var(--fill-color);\n",
              "    }\n",
              "  }\n",
              "</style>\n",
              "\n",
              "  <script>\n",
              "    async function quickchart(key) {\n",
              "      const quickchartButtonEl =\n",
              "        document.querySelector('#' + key + ' button');\n",
              "      quickchartButtonEl.disabled = true;  // To prevent multiple clicks.\n",
              "      quickchartButtonEl.classList.add('colab-df-spinner');\n",
              "      try {\n",
              "        const charts = await google.colab.kernel.invokeFunction(\n",
              "            'suggestCharts', [key], {});\n",
              "      } catch (error) {\n",
              "        console.error('Error during call to suggestCharts:', error);\n",
              "      }\n",
              "      quickchartButtonEl.classList.remove('colab-df-spinner');\n",
              "      quickchartButtonEl.classList.add('colab-df-quickchart-complete');\n",
              "    }\n",
              "    (() => {\n",
              "      let quickchartButtonEl =\n",
              "        document.querySelector('#df-41a863fa-c196-4825-9b61-17f94800cecb button');\n",
              "      quickchartButtonEl.style.display =\n",
              "        google.colab.kernel.accessAllowed ? 'block' : 'none';\n",
              "    })();\n",
              "  </script>\n",
              "</div>\n",
              "\n",
              "    </div>\n",
              "  </div>\n"
            ],
            "application/vnd.google.colaboratory.intrinsic+json": {
              "type": "dataframe",
              "variable_name": "nba"
            }
          },
          "metadata": {},
          "execution_count": 109
        }
      ],
      "source": [
        "nba.head(5)"
      ]
    },
    {
      "cell_type": "markdown",
      "metadata": {
        "id": "BoMKKY_3-T34"
      },
      "source": [
        "<br/>\n",
        "We are interested in predicting the number of points (`PTS`) an athlete will score in a basketball game this season.\n",
        "\n",
        "Suppose we want to fit a linear model by using some characteristics, or **feature**s of a player. Specifically, we'll focus on field goals, assists, and 3-point attempts.\n",
        "\n",
        "- `FG`, the number of (2-point) field goals per game\n",
        "- `AST`, the average number of assists per game, and\n",
        "- `3PA`, the number of 3-point field goals attempted per game\n",
        "\n",
        "This is how we express that model:\n",
        "\n",
        "$$\n",
        "\\hat{y}\n",
        "=\n",
        "\\theta_0 +\n",
        "\\theta_1 \\cdot \\textbf{FG} +\n",
        "\\theta_2 \\cdot \\textbf{AST} +\n",
        "\\theta_3 \\cdot \\textbf{3PA}\n",
        "$$"
      ]
    },
    {
      "cell_type": "code",
      "execution_count": null,
      "metadata": {
        "id": "nexhn_Qr-T34",
        "outputId": "e2cf6a04-54ad-4d49-fa27-67650933d5fa",
        "colab": {
          "base_uri": "https://localhost:8080/",
          "height": 206
        }
      },
      "outputs": [
        {
          "output_type": "execute_result",
          "data": {
            "text/plain": [
              "    FG  AST  3PA\n",
              "0  1.8  0.6  4.1\n",
              "1  0.4  0.8  1.5\n",
              "2  1.1  1.9  2.2\n",
              "3  6.0  1.6  0.0\n",
              "4  3.4  2.2  0.2"
            ],
            "text/html": [
              "\n",
              "  <div id=\"df-00295c61-0141-4b70-ad9a-5fcd273ce394\" class=\"colab-df-container\">\n",
              "    <div>\n",
              "<style scoped>\n",
              "    .dataframe tbody tr th:only-of-type {\n",
              "        vertical-align: middle;\n",
              "    }\n",
              "\n",
              "    .dataframe tbody tr th {\n",
              "        vertical-align: top;\n",
              "    }\n",
              "\n",
              "    .dataframe thead th {\n",
              "        text-align: right;\n",
              "    }\n",
              "</style>\n",
              "<table border=\"1\" class=\"dataframe\">\n",
              "  <thead>\n",
              "    <tr style=\"text-align: right;\">\n",
              "      <th></th>\n",
              "      <th>FG</th>\n",
              "      <th>AST</th>\n",
              "      <th>3PA</th>\n",
              "    </tr>\n",
              "  </thead>\n",
              "  <tbody>\n",
              "    <tr>\n",
              "      <th>0</th>\n",
              "      <td>1.8</td>\n",
              "      <td>0.6</td>\n",
              "      <td>4.1</td>\n",
              "    </tr>\n",
              "    <tr>\n",
              "      <th>1</th>\n",
              "      <td>0.4</td>\n",
              "      <td>0.8</td>\n",
              "      <td>1.5</td>\n",
              "    </tr>\n",
              "    <tr>\n",
              "      <th>2</th>\n",
              "      <td>1.1</td>\n",
              "      <td>1.9</td>\n",
              "      <td>2.2</td>\n",
              "    </tr>\n",
              "    <tr>\n",
              "      <th>3</th>\n",
              "      <td>6.0</td>\n",
              "      <td>1.6</td>\n",
              "      <td>0.0</td>\n",
              "    </tr>\n",
              "    <tr>\n",
              "      <th>4</th>\n",
              "      <td>3.4</td>\n",
              "      <td>2.2</td>\n",
              "      <td>0.2</td>\n",
              "    </tr>\n",
              "  </tbody>\n",
              "</table>\n",
              "</div>\n",
              "    <div class=\"colab-df-buttons\">\n",
              "\n",
              "  <div class=\"colab-df-container\">\n",
              "    <button class=\"colab-df-convert\" onclick=\"convertToInteractive('df-00295c61-0141-4b70-ad9a-5fcd273ce394')\"\n",
              "            title=\"Convert this dataframe to an interactive table.\"\n",
              "            style=\"display:none;\">\n",
              "\n",
              "  <svg xmlns=\"http://www.w3.org/2000/svg\" height=\"24px\" viewBox=\"0 -960 960 960\">\n",
              "    <path d=\"M120-120v-720h720v720H120Zm60-500h600v-160H180v160Zm220 220h160v-160H400v160Zm0 220h160v-160H400v160ZM180-400h160v-160H180v160Zm440 0h160v-160H620v160ZM180-180h160v-160H180v160Zm440 0h160v-160H620v160Z\"/>\n",
              "  </svg>\n",
              "    </button>\n",
              "\n",
              "  <style>\n",
              "    .colab-df-container {\n",
              "      display:flex;\n",
              "      gap: 12px;\n",
              "    }\n",
              "\n",
              "    .colab-df-convert {\n",
              "      background-color: #E8F0FE;\n",
              "      border: none;\n",
              "      border-radius: 50%;\n",
              "      cursor: pointer;\n",
              "      display: none;\n",
              "      fill: #1967D2;\n",
              "      height: 32px;\n",
              "      padding: 0 0 0 0;\n",
              "      width: 32px;\n",
              "    }\n",
              "\n",
              "    .colab-df-convert:hover {\n",
              "      background-color: #E2EBFA;\n",
              "      box-shadow: 0px 1px 2px rgba(60, 64, 67, 0.3), 0px 1px 3px 1px rgba(60, 64, 67, 0.15);\n",
              "      fill: #174EA6;\n",
              "    }\n",
              "\n",
              "    .colab-df-buttons div {\n",
              "      margin-bottom: 4px;\n",
              "    }\n",
              "\n",
              "    [theme=dark] .colab-df-convert {\n",
              "      background-color: #3B4455;\n",
              "      fill: #D2E3FC;\n",
              "    }\n",
              "\n",
              "    [theme=dark] .colab-df-convert:hover {\n",
              "      background-color: #434B5C;\n",
              "      box-shadow: 0px 1px 3px 1px rgba(0, 0, 0, 0.15);\n",
              "      filter: drop-shadow(0px 1px 2px rgba(0, 0, 0, 0.3));\n",
              "      fill: #FFFFFF;\n",
              "    }\n",
              "  </style>\n",
              "\n",
              "    <script>\n",
              "      const buttonEl =\n",
              "        document.querySelector('#df-00295c61-0141-4b70-ad9a-5fcd273ce394 button.colab-df-convert');\n",
              "      buttonEl.style.display =\n",
              "        google.colab.kernel.accessAllowed ? 'block' : 'none';\n",
              "\n",
              "      async function convertToInteractive(key) {\n",
              "        const element = document.querySelector('#df-00295c61-0141-4b70-ad9a-5fcd273ce394');\n",
              "        const dataTable =\n",
              "          await google.colab.kernel.invokeFunction('convertToInteractive',\n",
              "                                                    [key], {});\n",
              "        if (!dataTable) return;\n",
              "\n",
              "        const docLinkHtml = 'Like what you see? Visit the ' +\n",
              "          '<a target=\"_blank\" href=https://colab.research.google.com/notebooks/data_table.ipynb>data table notebook</a>'\n",
              "          + ' to learn more about interactive tables.';\n",
              "        element.innerHTML = '';\n",
              "        dataTable['output_type'] = 'display_data';\n",
              "        await google.colab.output.renderOutput(dataTable, element);\n",
              "        const docLink = document.createElement('div');\n",
              "        docLink.innerHTML = docLinkHtml;\n",
              "        element.appendChild(docLink);\n",
              "      }\n",
              "    </script>\n",
              "  </div>\n",
              "\n",
              "\n",
              "<div id=\"df-df33946d-01a6-4526-90a5-549f38d2235d\">\n",
              "  <button class=\"colab-df-quickchart\" onclick=\"quickchart('df-df33946d-01a6-4526-90a5-549f38d2235d')\"\n",
              "            title=\"Suggest charts\"\n",
              "            style=\"display:none;\">\n",
              "\n",
              "<svg xmlns=\"http://www.w3.org/2000/svg\" height=\"24px\"viewBox=\"0 0 24 24\"\n",
              "     width=\"24px\">\n",
              "    <g>\n",
              "        <path d=\"M19 3H5c-1.1 0-2 .9-2 2v14c0 1.1.9 2 2 2h14c1.1 0 2-.9 2-2V5c0-1.1-.9-2-2-2zM9 17H7v-7h2v7zm4 0h-2V7h2v10zm4 0h-2v-4h2v4z\"/>\n",
              "    </g>\n",
              "</svg>\n",
              "  </button>\n",
              "\n",
              "<style>\n",
              "  .colab-df-quickchart {\n",
              "      --bg-color: #E8F0FE;\n",
              "      --fill-color: #1967D2;\n",
              "      --hover-bg-color: #E2EBFA;\n",
              "      --hover-fill-color: #174EA6;\n",
              "      --disabled-fill-color: #AAA;\n",
              "      --disabled-bg-color: #DDD;\n",
              "  }\n",
              "\n",
              "  [theme=dark] .colab-df-quickchart {\n",
              "      --bg-color: #3B4455;\n",
              "      --fill-color: #D2E3FC;\n",
              "      --hover-bg-color: #434B5C;\n",
              "      --hover-fill-color: #FFFFFF;\n",
              "      --disabled-bg-color: #3B4455;\n",
              "      --disabled-fill-color: #666;\n",
              "  }\n",
              "\n",
              "  .colab-df-quickchart {\n",
              "    background-color: var(--bg-color);\n",
              "    border: none;\n",
              "    border-radius: 50%;\n",
              "    cursor: pointer;\n",
              "    display: none;\n",
              "    fill: var(--fill-color);\n",
              "    height: 32px;\n",
              "    padding: 0;\n",
              "    width: 32px;\n",
              "  }\n",
              "\n",
              "  .colab-df-quickchart:hover {\n",
              "    background-color: var(--hover-bg-color);\n",
              "    box-shadow: 0 1px 2px rgba(60, 64, 67, 0.3), 0 1px 3px 1px rgba(60, 64, 67, 0.15);\n",
              "    fill: var(--button-hover-fill-color);\n",
              "  }\n",
              "\n",
              "  .colab-df-quickchart-complete:disabled,\n",
              "  .colab-df-quickchart-complete:disabled:hover {\n",
              "    background-color: var(--disabled-bg-color);\n",
              "    fill: var(--disabled-fill-color);\n",
              "    box-shadow: none;\n",
              "  }\n",
              "\n",
              "  .colab-df-spinner {\n",
              "    border: 2px solid var(--fill-color);\n",
              "    border-color: transparent;\n",
              "    border-bottom-color: var(--fill-color);\n",
              "    animation:\n",
              "      spin 1s steps(1) infinite;\n",
              "  }\n",
              "\n",
              "  @keyframes spin {\n",
              "    0% {\n",
              "      border-color: transparent;\n",
              "      border-bottom-color: var(--fill-color);\n",
              "      border-left-color: var(--fill-color);\n",
              "    }\n",
              "    20% {\n",
              "      border-color: transparent;\n",
              "      border-left-color: var(--fill-color);\n",
              "      border-top-color: var(--fill-color);\n",
              "    }\n",
              "    30% {\n",
              "      border-color: transparent;\n",
              "      border-left-color: var(--fill-color);\n",
              "      border-top-color: var(--fill-color);\n",
              "      border-right-color: var(--fill-color);\n",
              "    }\n",
              "    40% {\n",
              "      border-color: transparent;\n",
              "      border-right-color: var(--fill-color);\n",
              "      border-top-color: var(--fill-color);\n",
              "    }\n",
              "    60% {\n",
              "      border-color: transparent;\n",
              "      border-right-color: var(--fill-color);\n",
              "    }\n",
              "    80% {\n",
              "      border-color: transparent;\n",
              "      border-right-color: var(--fill-color);\n",
              "      border-bottom-color: var(--fill-color);\n",
              "    }\n",
              "    90% {\n",
              "      border-color: transparent;\n",
              "      border-bottom-color: var(--fill-color);\n",
              "    }\n",
              "  }\n",
              "</style>\n",
              "\n",
              "  <script>\n",
              "    async function quickchart(key) {\n",
              "      const quickchartButtonEl =\n",
              "        document.querySelector('#' + key + ' button');\n",
              "      quickchartButtonEl.disabled = true;  // To prevent multiple clicks.\n",
              "      quickchartButtonEl.classList.add('colab-df-spinner');\n",
              "      try {\n",
              "        const charts = await google.colab.kernel.invokeFunction(\n",
              "            'suggestCharts', [key], {});\n",
              "      } catch (error) {\n",
              "        console.error('Error during call to suggestCharts:', error);\n",
              "      }\n",
              "      quickchartButtonEl.classList.remove('colab-df-spinner');\n",
              "      quickchartButtonEl.classList.add('colab-df-quickchart-complete');\n",
              "    }\n",
              "    (() => {\n",
              "      let quickchartButtonEl =\n",
              "        document.querySelector('#df-df33946d-01a6-4526-90a5-549f38d2235d button');\n",
              "      quickchartButtonEl.style.display =\n",
              "        google.colab.kernel.accessAllowed ? 'block' : 'none';\n",
              "    })();\n",
              "  </script>\n",
              "</div>\n",
              "\n",
              "    </div>\n",
              "  </div>\n"
            ],
            "application/vnd.google.colaboratory.intrinsic+json": {
              "type": "dataframe",
              "variable_name": "df",
              "summary": "{\n  \"name\": \"df\",\n  \"rows\": 708,\n  \"fields\": [\n    {\n      \"column\": \"FG\",\n      \"properties\": {\n        \"dtype\": \"number\",\n        \"std\": 2.116415302894833,\n        \"min\": 0.0,\n        \"max\": 10.8,\n        \"num_unique_values\": 95,\n        \"samples\": [\n          5.4,\n          7.2,\n          5.8\n        ],\n        \"semantic_type\": \"\",\n        \"description\": \"\"\n      }\n    },\n    {\n      \"column\": \"AST\",\n      \"properties\": {\n        \"dtype\": \"number\",\n        \"std\": 1.6424281664190328,\n        \"min\": 0.0,\n        \"max\": 10.7,\n        \"num_unique_values\": 74,\n        \"samples\": [\n          2.2,\n          8.3,\n          3.3\n        ],\n        \"semantic_type\": \"\",\n        \"description\": \"\"\n      }\n    },\n    {\n      \"column\": \"3PA\",\n      \"properties\": {\n        \"dtype\": \"number\",\n        \"std\": 2.0592681925714054,\n        \"min\": 0.0,\n        \"max\": 13.2,\n        \"num_unique_values\": 84,\n        \"samples\": [\n          5.1,\n          4.1,\n          5.9\n        ],\n        \"semantic_type\": \"\",\n        \"description\": \"\"\n      }\n    }\n  ]\n}"
            }
          },
          "metadata": {},
          "execution_count": 110
        }
      ],
      "source": [
        "# extract required Columns\n",
        "FG = nba['FG']\n",
        "AST = nba['AST']\n",
        "_3PA = nba['3PA']\n",
        "df = pd.DataFrame({'FG': FG, 'AST': AST, '3PA': _3PA})\n",
        "df.head()"
      ]
    },
    {
      "cell_type": "markdown",
      "metadata": {
        "id": "uI5z9jvS-T35"
      },
      "source": [
        "<br/><br/>\n",
        "In lecture, we saw that the predictions for the entire data set $\\hat{\\mathbb{Y}}$ can be computed as:\n",
        "\n",
        "$$ \\Large\n",
        "\\hat{\\mathbb{Y}} = \\mathbb{X} \\theta  \n",
        "$$\n",
        "\n",
        "The **design matrix** $\\mathbb{X} \\in \\mathbb{R}^{n,d+1}$ has $n$ rows corresponding to each record in the dataset and $d+1$ columns corresponding to the original $d$ columns in the data plus an additional 1s column vector (**bias/intercept feature**).\n",
        "\n",
        "Let's build this design matrix using Pandas:"
      ]
    },
    {
      "cell_type": "code",
      "execution_count": null,
      "metadata": {
        "id": "8j0SChf5-T35",
        "outputId": "781a80d4-7e90-4da3-a361-f5addc66fbd0",
        "colab": {
          "base_uri": "https://localhost:8080/",
          "height": 206
        }
      },
      "outputs": [
        {
          "output_type": "execute_result",
          "data": {
            "text/plain": [
              "   Bias   FG  AST  3PA\n",
              "0     1  1.8  0.6  4.1\n",
              "1     1  0.4  0.8  1.5\n",
              "2     1  1.1  1.9  2.2\n",
              "3     1  6.0  1.6  0.0\n",
              "4     1  3.4  2.2  0.2"
            ],
            "text/html": [
              "\n",
              "  <div id=\"df-d4c430a7-ee53-42b6-b211-715cb777e6b7\" class=\"colab-df-container\">\n",
              "    <div>\n",
              "<style scoped>\n",
              "    .dataframe tbody tr th:only-of-type {\n",
              "        vertical-align: middle;\n",
              "    }\n",
              "\n",
              "    .dataframe tbody tr th {\n",
              "        vertical-align: top;\n",
              "    }\n",
              "\n",
              "    .dataframe thead th {\n",
              "        text-align: right;\n",
              "    }\n",
              "</style>\n",
              "<table border=\"1\" class=\"dataframe\">\n",
              "  <thead>\n",
              "    <tr style=\"text-align: right;\">\n",
              "      <th></th>\n",
              "      <th>Bias</th>\n",
              "      <th>FG</th>\n",
              "      <th>AST</th>\n",
              "      <th>3PA</th>\n",
              "    </tr>\n",
              "  </thead>\n",
              "  <tbody>\n",
              "    <tr>\n",
              "      <th>0</th>\n",
              "      <td>1</td>\n",
              "      <td>1.8</td>\n",
              "      <td>0.6</td>\n",
              "      <td>4.1</td>\n",
              "    </tr>\n",
              "    <tr>\n",
              "      <th>1</th>\n",
              "      <td>1</td>\n",
              "      <td>0.4</td>\n",
              "      <td>0.8</td>\n",
              "      <td>1.5</td>\n",
              "    </tr>\n",
              "    <tr>\n",
              "      <th>2</th>\n",
              "      <td>1</td>\n",
              "      <td>1.1</td>\n",
              "      <td>1.9</td>\n",
              "      <td>2.2</td>\n",
              "    </tr>\n",
              "    <tr>\n",
              "      <th>3</th>\n",
              "      <td>1</td>\n",
              "      <td>6.0</td>\n",
              "      <td>1.6</td>\n",
              "      <td>0.0</td>\n",
              "    </tr>\n",
              "    <tr>\n",
              "      <th>4</th>\n",
              "      <td>1</td>\n",
              "      <td>3.4</td>\n",
              "      <td>2.2</td>\n",
              "      <td>0.2</td>\n",
              "    </tr>\n",
              "  </tbody>\n",
              "</table>\n",
              "</div>\n",
              "    <div class=\"colab-df-buttons\">\n",
              "\n",
              "  <div class=\"colab-df-container\">\n",
              "    <button class=\"colab-df-convert\" onclick=\"convertToInteractive('df-d4c430a7-ee53-42b6-b211-715cb777e6b7')\"\n",
              "            title=\"Convert this dataframe to an interactive table.\"\n",
              "            style=\"display:none;\">\n",
              "\n",
              "  <svg xmlns=\"http://www.w3.org/2000/svg\" height=\"24px\" viewBox=\"0 -960 960 960\">\n",
              "    <path d=\"M120-120v-720h720v720H120Zm60-500h600v-160H180v160Zm220 220h160v-160H400v160Zm0 220h160v-160H400v160ZM180-400h160v-160H180v160Zm440 0h160v-160H620v160ZM180-180h160v-160H180v160Zm440 0h160v-160H620v160Z\"/>\n",
              "  </svg>\n",
              "    </button>\n",
              "\n",
              "  <style>\n",
              "    .colab-df-container {\n",
              "      display:flex;\n",
              "      gap: 12px;\n",
              "    }\n",
              "\n",
              "    .colab-df-convert {\n",
              "      background-color: #E8F0FE;\n",
              "      border: none;\n",
              "      border-radius: 50%;\n",
              "      cursor: pointer;\n",
              "      display: none;\n",
              "      fill: #1967D2;\n",
              "      height: 32px;\n",
              "      padding: 0 0 0 0;\n",
              "      width: 32px;\n",
              "    }\n",
              "\n",
              "    .colab-df-convert:hover {\n",
              "      background-color: #E2EBFA;\n",
              "      box-shadow: 0px 1px 2px rgba(60, 64, 67, 0.3), 0px 1px 3px 1px rgba(60, 64, 67, 0.15);\n",
              "      fill: #174EA6;\n",
              "    }\n",
              "\n",
              "    .colab-df-buttons div {\n",
              "      margin-bottom: 4px;\n",
              "    }\n",
              "\n",
              "    [theme=dark] .colab-df-convert {\n",
              "      background-color: #3B4455;\n",
              "      fill: #D2E3FC;\n",
              "    }\n",
              "\n",
              "    [theme=dark] .colab-df-convert:hover {\n",
              "      background-color: #434B5C;\n",
              "      box-shadow: 0px 1px 3px 1px rgba(0, 0, 0, 0.15);\n",
              "      filter: drop-shadow(0px 1px 2px rgba(0, 0, 0, 0.3));\n",
              "      fill: #FFFFFF;\n",
              "    }\n",
              "  </style>\n",
              "\n",
              "    <script>\n",
              "      const buttonEl =\n",
              "        document.querySelector('#df-d4c430a7-ee53-42b6-b211-715cb777e6b7 button.colab-df-convert');\n",
              "      buttonEl.style.display =\n",
              "        google.colab.kernel.accessAllowed ? 'block' : 'none';\n",
              "\n",
              "      async function convertToInteractive(key) {\n",
              "        const element = document.querySelector('#df-d4c430a7-ee53-42b6-b211-715cb777e6b7');\n",
              "        const dataTable =\n",
              "          await google.colab.kernel.invokeFunction('convertToInteractive',\n",
              "                                                    [key], {});\n",
              "        if (!dataTable) return;\n",
              "\n",
              "        const docLinkHtml = 'Like what you see? Visit the ' +\n",
              "          '<a target=\"_blank\" href=https://colab.research.google.com/notebooks/data_table.ipynb>data table notebook</a>'\n",
              "          + ' to learn more about interactive tables.';\n",
              "        element.innerHTML = '';\n",
              "        dataTable['output_type'] = 'display_data';\n",
              "        await google.colab.output.renderOutput(dataTable, element);\n",
              "        const docLink = document.createElement('div');\n",
              "        docLink.innerHTML = docLinkHtml;\n",
              "        element.appendChild(docLink);\n",
              "      }\n",
              "    </script>\n",
              "  </div>\n",
              "\n",
              "\n",
              "<div id=\"df-ea7121e3-3277-48ae-8438-547ed507a205\">\n",
              "  <button class=\"colab-df-quickchart\" onclick=\"quickchart('df-ea7121e3-3277-48ae-8438-547ed507a205')\"\n",
              "            title=\"Suggest charts\"\n",
              "            style=\"display:none;\">\n",
              "\n",
              "<svg xmlns=\"http://www.w3.org/2000/svg\" height=\"24px\"viewBox=\"0 0 24 24\"\n",
              "     width=\"24px\">\n",
              "    <g>\n",
              "        <path d=\"M19 3H5c-1.1 0-2 .9-2 2v14c0 1.1.9 2 2 2h14c1.1 0 2-.9 2-2V5c0-1.1-.9-2-2-2zM9 17H7v-7h2v7zm4 0h-2V7h2v10zm4 0h-2v-4h2v4z\"/>\n",
              "    </g>\n",
              "</svg>\n",
              "  </button>\n",
              "\n",
              "<style>\n",
              "  .colab-df-quickchart {\n",
              "      --bg-color: #E8F0FE;\n",
              "      --fill-color: #1967D2;\n",
              "      --hover-bg-color: #E2EBFA;\n",
              "      --hover-fill-color: #174EA6;\n",
              "      --disabled-fill-color: #AAA;\n",
              "      --disabled-bg-color: #DDD;\n",
              "  }\n",
              "\n",
              "  [theme=dark] .colab-df-quickchart {\n",
              "      --bg-color: #3B4455;\n",
              "      --fill-color: #D2E3FC;\n",
              "      --hover-bg-color: #434B5C;\n",
              "      --hover-fill-color: #FFFFFF;\n",
              "      --disabled-bg-color: #3B4455;\n",
              "      --disabled-fill-color: #666;\n",
              "  }\n",
              "\n",
              "  .colab-df-quickchart {\n",
              "    background-color: var(--bg-color);\n",
              "    border: none;\n",
              "    border-radius: 50%;\n",
              "    cursor: pointer;\n",
              "    display: none;\n",
              "    fill: var(--fill-color);\n",
              "    height: 32px;\n",
              "    padding: 0;\n",
              "    width: 32px;\n",
              "  }\n",
              "\n",
              "  .colab-df-quickchart:hover {\n",
              "    background-color: var(--hover-bg-color);\n",
              "    box-shadow: 0 1px 2px rgba(60, 64, 67, 0.3), 0 1px 3px 1px rgba(60, 64, 67, 0.15);\n",
              "    fill: var(--button-hover-fill-color);\n",
              "  }\n",
              "\n",
              "  .colab-df-quickchart-complete:disabled,\n",
              "  .colab-df-quickchart-complete:disabled:hover {\n",
              "    background-color: var(--disabled-bg-color);\n",
              "    fill: var(--disabled-fill-color);\n",
              "    box-shadow: none;\n",
              "  }\n",
              "\n",
              "  .colab-df-spinner {\n",
              "    border: 2px solid var(--fill-color);\n",
              "    border-color: transparent;\n",
              "    border-bottom-color: var(--fill-color);\n",
              "    animation:\n",
              "      spin 1s steps(1) infinite;\n",
              "  }\n",
              "\n",
              "  @keyframes spin {\n",
              "    0% {\n",
              "      border-color: transparent;\n",
              "      border-bottom-color: var(--fill-color);\n",
              "      border-left-color: var(--fill-color);\n",
              "    }\n",
              "    20% {\n",
              "      border-color: transparent;\n",
              "      border-left-color: var(--fill-color);\n",
              "      border-top-color: var(--fill-color);\n",
              "    }\n",
              "    30% {\n",
              "      border-color: transparent;\n",
              "      border-left-color: var(--fill-color);\n",
              "      border-top-color: var(--fill-color);\n",
              "      border-right-color: var(--fill-color);\n",
              "    }\n",
              "    40% {\n",
              "      border-color: transparent;\n",
              "      border-right-color: var(--fill-color);\n",
              "      border-top-color: var(--fill-color);\n",
              "    }\n",
              "    60% {\n",
              "      border-color: transparent;\n",
              "      border-right-color: var(--fill-color);\n",
              "    }\n",
              "    80% {\n",
              "      border-color: transparent;\n",
              "      border-right-color: var(--fill-color);\n",
              "      border-bottom-color: var(--fill-color);\n",
              "    }\n",
              "    90% {\n",
              "      border-color: transparent;\n",
              "      border-bottom-color: var(--fill-color);\n",
              "    }\n",
              "  }\n",
              "</style>\n",
              "\n",
              "  <script>\n",
              "    async function quickchart(key) {\n",
              "      const quickchartButtonEl =\n",
              "        document.querySelector('#' + key + ' button');\n",
              "      quickchartButtonEl.disabled = true;  // To prevent multiple clicks.\n",
              "      quickchartButtonEl.classList.add('colab-df-spinner');\n",
              "      try {\n",
              "        const charts = await google.colab.kernel.invokeFunction(\n",
              "            'suggestCharts', [key], {});\n",
              "      } catch (error) {\n",
              "        console.error('Error during call to suggestCharts:', error);\n",
              "      }\n",
              "      quickchartButtonEl.classList.remove('colab-df-spinner');\n",
              "      quickchartButtonEl.classList.add('colab-df-quickchart-complete');\n",
              "    }\n",
              "    (() => {\n",
              "      let quickchartButtonEl =\n",
              "        document.querySelector('#df-ea7121e3-3277-48ae-8438-547ed507a205 button');\n",
              "      quickchartButtonEl.style.display =\n",
              "        google.colab.kernel.accessAllowed ? 'block' : 'none';\n",
              "    })();\n",
              "  </script>\n",
              "</div>\n",
              "\n",
              "    </div>\n",
              "  </div>\n"
            ],
            "application/vnd.google.colaboratory.intrinsic+json": {
              "type": "dataframe",
              "variable_name": "df",
              "summary": "{\n  \"name\": \"df\",\n  \"rows\": 708,\n  \"fields\": [\n    {\n      \"column\": \"Bias\",\n      \"properties\": {\n        \"dtype\": \"number\",\n        \"std\": 0,\n        \"min\": 1,\n        \"max\": 1,\n        \"num_unique_values\": 1,\n        \"samples\": [\n          1\n        ],\n        \"semantic_type\": \"\",\n        \"description\": \"\"\n      }\n    },\n    {\n      \"column\": \"FG\",\n      \"properties\": {\n        \"dtype\": \"number\",\n        \"std\": 2.116415302894833,\n        \"min\": 0.0,\n        \"max\": 10.8,\n        \"num_unique_values\": 95,\n        \"samples\": [\n          5.4\n        ],\n        \"semantic_type\": \"\",\n        \"description\": \"\"\n      }\n    },\n    {\n      \"column\": \"AST\",\n      \"properties\": {\n        \"dtype\": \"number\",\n        \"std\": 1.6424281664190328,\n        \"min\": 0.0,\n        \"max\": 10.7,\n        \"num_unique_values\": 74,\n        \"samples\": [\n          2.2\n        ],\n        \"semantic_type\": \"\",\n        \"description\": \"\"\n      }\n    },\n    {\n      \"column\": \"3PA\",\n      \"properties\": {\n        \"dtype\": \"number\",\n        \"std\": 2.0592681925714054,\n        \"min\": 0.0,\n        \"max\": 13.2,\n        \"num_unique_values\": 84,\n        \"samples\": [\n          5.1\n        ],\n        \"semantic_type\": \"\",\n        \"description\": \"\"\n      }\n    }\n  ]\n}"
            }
          },
          "metadata": {},
          "execution_count": 111
        }
      ],
      "source": [
        "\n",
        "df.insert(0, 'Bias', 1)\n",
        "df.head()"
      ]
    },
    {
      "cell_type": "code",
      "execution_count": null,
      "metadata": {
        "id": "QR8zQX6o-T35",
        "outputId": "3f1169d7-f2d5-422a-c9d6-ebf8a925e2c6",
        "colab": {
          "base_uri": "https://localhost:8080/"
        }
      },
      "outputs": [
        {
          "output_type": "execute_result",
          "data": {
            "text/plain": [
              "(708, 4)"
            ]
          },
          "metadata": {},
          "execution_count": 112
        }
      ],
      "source": [
        "# the data shape\n",
        "df.shape"
      ]
    },
    {
      "cell_type": "code",
      "execution_count": null,
      "metadata": {
        "id": "_X_UitBv-T36",
        "outputId": "093259bd-c064-4f69-ae43-b190dca64c98",
        "colab": {
          "base_uri": "https://localhost:8080/"
        }
      },
      "outputs": [
        {
          "output_type": "stream",
          "name": "stdout",
          "text": [
            "[[ 5.3]\n",
            " [ 1.7]\n",
            " [ 3.2]\n",
            " [13.9]\n",
            " [ 8.9]]\n"
          ]
        }
      ],
      "source": [
        "# # For nba data\n",
        "\n",
        "# # how many observations\n",
        "\n",
        "# # how many features\n",
        "\n",
        "# # visualize few\n",
        "\n",
        "Y = nba['PTS'].values\n",
        "Y=Y.reshape(-1,1)\n",
        "print(Y[:5])\n"
      ]
    },
    {
      "cell_type": "markdown",
      "metadata": {
        "id": "PvErkOWB-T36"
      },
      "source": [
        "---\n",
        "## Example prediction\n",
        "\n",
        "Suppose we decide to pick an arbitrary parameter $\\theta$:\n",
        "\n",
        "$$\\theta = \\begin{bmatrix}0.50 \\\\ -0.14 \\\\ 0.65 \\\\ 1.52 \\end{bmatrix}$$\n",
        "\n",
        "(For those interested: I drew these from random values simulated from a standard normal distribution using `np.random.randn`.)"
      ]
    },
    {
      "cell_type": "code",
      "execution_count": null,
      "metadata": {
        "id": "40jQhvHO-T36",
        "outputId": "acd01177-8d11-48e1-e400-8d7cd3460d5c",
        "colab": {
          "base_uri": "https://localhost:8080/"
        }
      },
      "outputs": [
        {
          "output_type": "execute_result",
          "data": {
            "text/plain": [
              "array([[ 0.5 ],\n",
              "       [-1.14],\n",
              "       [ 0.65],\n",
              "       [ 1.52]])"
            ]
          },
          "metadata": {},
          "execution_count": 114
        }
      ],
      "source": [
        "theta_arbitrary = np.array([[0.5], [-1.14], [0.65], [1.52]])\n",
        "theta_arbitrary"
      ]
    },
    {
      "cell_type": "code",
      "source": [
        "X = df.values"
      ],
      "metadata": {
        "id": "Bu_zKKZKOJB5"
      },
      "execution_count": null,
      "outputs": []
    },
    {
      "cell_type": "markdown",
      "metadata": {
        "id": "VDMSU0RJ-T36"
      },
      "source": [
        "For this value of $\\theta$ we can make a prediction using our model with matrix multiplication.\n",
        "\n",
        "The `@` symbol is the matrix multiply operation and is equivalent to writing `xt.dot(theta)`."
      ]
    },
    {
      "cell_type": "code",
      "execution_count": null,
      "metadata": {
        "id": "ByMaPlMY-T37",
        "outputId": "21e8be13-d6c7-4670-c4d9-0c0e91b5febc",
        "colab": {
          "base_uri": "https://localhost:8080/"
        }
      },
      "outputs": [
        {
          "output_type": "stream",
          "name": "stdout",
          "text": [
            "[[ 5.07 ]\n",
            " [ 2.844]\n",
            " [ 3.825]\n",
            " [-5.3  ]\n",
            " [-1.642]]\n"
          ]
        },
        {
          "output_type": "execute_result",
          "data": {
            "text/plain": [
              "array([[ 5.3],\n",
              "       [ 1.7],\n",
              "       [ 3.2],\n",
              "       [13.9],\n",
              "       [ 8.9]])"
            ]
          },
          "metadata": {},
          "execution_count": 121
        }
      ],
      "source": [
        "# apply the above random values on 'X' and predict 'y'\n",
        "print(np.array((X @ theta_arbitrary)[:5]))\n",
        "Y[:5]"
      ]
    },
    {
      "cell_type": "markdown",
      "metadata": {
        "id": "NZKDVThR-T37"
      },
      "source": [
        "## Computing MSE\n",
        "\n",
        "For Ordinary Least Squares, the average loss is MSE:\n",
        "\n",
        "$$ \\Large R(\\theta) = \\frac{1}{n} || \\mathbb{Y} - \\mathbb{X}\\theta||^2_2 $$\n",
        "\n",
        "NumPy has a handy function `np.linalg.norm` that computes the norm of a matrix (default is L2 norm)."
      ]
    },
    {
      "cell_type": "code",
      "execution_count": null,
      "metadata": {
        "id": "y3L68YUf-T37",
        "outputId": "168ae575-df83-4c0e-e72f-2ba13fa740fd",
        "colab": {
          "base_uri": "https://localhost:8080/"
        }
      },
      "outputs": [
        {
          "output_type": "stream",
          "name": "stdout",
          "text": [
            "MSE: 57637.901845474626\n"
          ]
        }
      ],
      "source": [
        "theta_arbitrary = np.array([0.5, -1.14, 0.65, 1.52])\n",
        "\n",
        "def mse_nba(theta):\n",
        "    \"\"\"\n",
        "    Y is PTS\n",
        "    X is intercept, FG, AST, 3PA\n",
        "    \"\"\"\n",
        "    # Predict Y using X and the given theta\n",
        "    Y_hat = X @ theta\n",
        "\n",
        "    # Compute the residual (error)\n",
        "    residual = Y - Y_hat\n",
        "\n",
        "    # Compute MSE\n",
        "    mse = (1 / len(Y)) * np.linalg.norm(residual) ** 2\n",
        "\n",
        "    return mse\n",
        "\n",
        "# Example usage\n",
        "mse_value = mse_nba(theta_arbitrary)\n",
        "print(f\"MSE: {mse_value}\")\n"
      ]
    },
    {
      "cell_type": "markdown",
      "metadata": {
        "id": "rqAmuXOP-T37"
      },
      "source": [
        "Is this good? Is this bad? Let's compute the optimal theta and compare!"
      ]
    },
    {
      "cell_type": "markdown",
      "metadata": {
        "id": "nQJfj5x2-T37"
      },
      "source": [
        "---\n",
        "## Implementing Least Squares\n",
        "\n",
        "From lecture, the Least Squares Estimate $\\hat{\\theta}$ is:\n",
        "$$\n",
        "\\Large \\hat{\\theta} = \\left( \\mathbb{X}^{\\top} \\mathbb{X} \\right)^{-1} \\mathbb{X}^{\\top} \\mathbb{Y}\n",
        "$$"
      ]
    },
    {
      "cell_type": "markdown",
      "metadata": {
        "id": "jYc8Yftk-T37"
      },
      "source": [
        "While it is not as numerically stable or efficient. We can compute $\\hat{\\theta}$ by direction using matrix inversion. To do this, we import the `inv` function for the `numpy` linear algebra library:"
      ]
    },
    {
      "cell_type": "code",
      "execution_count": null,
      "metadata": {
        "id": "-vy65j9k-T38"
      },
      "outputs": [],
      "source": [
        "from numpy.linalg import inv"
      ]
    },
    {
      "cell_type": "code",
      "execution_count": null,
      "metadata": {
        "id": "i5tD1VNK-T38",
        "outputId": "03e5a2bf-649e-4e89-9919-e2a6a451cc89",
        "colab": {
          "base_uri": "https://localhost:8080/"
        }
      },
      "outputs": [
        {
          "output_type": "execute_result",
          "data": {
            "text/plain": [
              "array([[-0.29253798],\n",
              "       [ 2.51705703],\n",
              "       [ 0.05075571],\n",
              "       [ 0.31307653]])"
            ]
          },
          "metadata": {},
          "execution_count": 124
        }
      ],
      "source": [
        "def least_squares_estimate(X, Y):\n",
        "    # Compute X transpose\n",
        "    X_transpose = X.T\n",
        "\n",
        "    # Compute X^T * X\n",
        "    XtX = X_transpose @ X\n",
        "\n",
        "    # Compute the inverse of XtX\n",
        "    XtX_inv = inv(XtX)\n",
        "\n",
        "    # Compute X^T * Y\n",
        "    XtY = X_transpose @ Y\n",
        "\n",
        "    # Compute theta_hat using the formula (X^T * X)^(-1) * X^T * Y\n",
        "    theta_hat = XtX_inv @ XtY\n",
        "\n",
        "    return theta_hat\n",
        "\n",
        "# Example usage\n",
        "theta_hat = least_squares_estimate(X, Y)\n",
        "theta_hat\n"
      ]
    },
    {
      "cell_type": "code",
      "execution_count": null,
      "metadata": {
        "id": "NsKP5S7X-T38",
        "outputId": "6809d069-f74e-415b-80da-391191e804b9",
        "colab": {
          "base_uri": "https://localhost:8080/"
        }
      },
      "outputs": [
        {
          "output_type": "stream",
          "name": "stdout",
          "text": [
            "Arbitrary theta MSE:  57637.901845474626\n",
            "Optimal theta MSE: 0.3963133329080335\n"
          ]
        }
      ],
      "source": [
        "print(\"Arbitrary theta MSE: \", mse_nba(theta_arbitrary))\n",
        "print(\"Optimal theta MSE:\"  , mse_nba(theta_hat))"
      ]
    },
    {
      "cell_type": "markdown",
      "metadata": {
        "id": "0yoSX3ug-T38"
      },
      "source": [
        "Nice!!!\n",
        "\n",
        "---\n",
        "## Making Least Squares Predictions\n",
        "\n",
        "Now that we have estimated the model parameters $\\hat{\\theta}$ we can now also predict the points scored $\\hat{\\mathbb{Y}}$ for each of our players."
      ]
    },
    {
      "cell_type": "code",
      "execution_count": null,
      "metadata": {
        "id": "3tVy8CcM-T38"
      },
      "outputs": [],
      "source": [
        "Y_hat = X @ theta_hat"
      ]
    },
    {
      "cell_type": "code",
      "source": [
        "# Calculate the residuals\n",
        "residuals = Y - Y_hat\n",
        "print(residuals[:5])"
      ],
      "metadata": {
        "colab": {
          "base_uri": "https://localhost:8080/"
        },
        "id": "BUOXwpEqPPmT",
        "outputId": "346f072e-0304-4892-a506-8cf97985e809"
      },
      "execution_count": null,
      "outputs": [
        {
          "output_type": "stream",
          "name": "stdout",
          "text": [
            "[[-0.25223188]\n",
            " [ 0.4754958 ]\n",
            " [-0.06142897]\n",
            " [-0.99101334]\n",
            " [ 0.46026621]]\n"
          ]
        }
      ]
    },
    {
      "cell_type": "markdown",
      "metadata": {
        "id": "pYx9hJ8j-T38"
      },
      "source": [
        "<br/>\n",
        "\n",
        "---\n",
        "\n",
        "## Model Performance/Diagnosing the Model\n",
        "\n",
        "In previous lectures, we have plotted the residual vs. our single input feature $x$.\n",
        "\n",
        "For higher dimensional regression models, we often graph the residual with respect to the fitted values $\\hat{y}$."
      ]
    },
    {
      "cell_type": "code",
      "execution_count": null,
      "metadata": {
        "id": "_QVJEvp8-T39",
        "outputId": "d8d8ba56-27ae-480b-a101-b319464aece0",
        "colab": {
          "base_uri": "https://localhost:8080/",
          "height": 564
        }
      },
      "outputs": [
        {
          "output_type": "display_data",
          "data": {
            "text/plain": [
              "<Figure size 1000x600 with 1 Axes>"
            ],
            "image/png": "[encoded data removed]"
          },
          "metadata": {}
        }
      ],
      "source": [
        "# code here\n",
        "\n",
        "import matplotlib.pyplot as plt\n",
        "import seaborn as sns\n",
        "\n",
        "# Plot residuals vs. fitted values\n",
        "plt.figure(figsize=(10, 6))\n",
        "sns.scatterplot(x=Y_hat.flatten(), y=residuals.flatten())\n",
        "plt.axhline(y=0, color='r', linestyle='--')\n",
        "plt.xlabel('Fitted values (Y_hat)')\n",
        "plt.ylabel('Residuals')\n",
        "plt.title('Residuals vs. Fitted Values')\n",
        "plt.show()\n"
      ]
    },
    {
      "cell_type": "markdown",
      "metadata": {
        "id": "HExge_K6-T39"
      },
      "source": [
        "Overall while the residuals are roughly centered around 0 ($\\hat{y} = y$), we see **heteroskedasticity**: Our regression spread is uneven, particularly as predictions get big."
      ]
    },
    {
      "cell_type": "markdown",
      "metadata": {
        "id": "gmOGHiUr-T39"
      },
      "source": [
        "## Multiple $R^2$"
      ]
    },
    {
      "cell_type": "markdown",
      "metadata": {
        "id": "DIL256Fp-T39"
      },
      "source": [
        "Let's compute the coefficient of determination, or **multiple $R^2$**, for our model."
      ]
    },
    {
      "cell_type": "code",
      "execution_count": null,
      "metadata": {
        "id": "yp_VpgHV-T39",
        "outputId": "7c710d9e-f5aa-4264-e7b2-056e985740f4",
        "colab": {
          "base_uri": "https://localhost:8080/"
        }
      },
      "outputs": [
        {
          "output_type": "stream",
          "name": "stdout",
          "text": [
            "0.9883162128703227\n"
          ]
        }
      ],
      "source": [
        "# code here\n",
        "\n",
        "import numpy as np\n",
        "\n",
        "def compute_r_squared(Y, Y_hat):\n",
        "\n",
        "    Y_mean = np.mean(Y)\n",
        "    TSS = np.sum((Y - Y_mean) ** 2)\n",
        "\n",
        "\n",
        "    RSS = np.sum((Y - Y_hat) ** 2)\n",
        "\n",
        "    # Calculate\n",
        "    R_squared = 1 - (RSS / TSS)\n",
        "\n",
        "    return R_squared\n",
        "\n",
        "# Compute the value for the model\n",
        "R_squared = compute_r_squared(Y, Y_hat)\n",
        "print(f\"{R_squared}\")\n"
      ]
    },
    {
      "cell_type": "markdown",
      "metadata": {
        "id": "A-0h8Dky-T39"
      },
      "source": [
        "That's super high!!! Wait, what's up with that?\n",
        "\n",
        "(Hint: Basketball facts)\n",
        "\n",
        "Let's try reducing the number of features to see how this Multiple $R^2$ metric changes."
      ]
    },
    {
      "cell_type": "code",
      "execution_count": null,
      "metadata": {
        "id": "7B2-bLs9-T39",
        "outputId": "50053d0c-2115-400e-9b10-dc990fea3431",
        "colab": {
          "base_uri": "https://localhost:8080/"
        }
      },
      "outputs": [
        {
          "output_type": "stream",
          "name": "stdout",
          "text": [
            "0.6087862763665718\n"
          ]
        }
      ],
      "source": [
        "# Use intercept, AST, 3PA\n",
        "\n",
        "\n",
        "\n",
        "\n",
        "df_reduced = pd.DataFrame({'AST': AST, '3PA': _3PA})\n",
        "df_reduced.insert(0, 'Bias', 1)  # Insert bias term\n",
        "\n",
        "# Convert to numpy array\n",
        "X_reduced = df_reduced.values\n",
        "\n",
        "# Recompute theta_hat using the reduced feature set\n",
        "theta_hat_reduced = least_squares_estimate(X_reduced, Y)\n",
        "\n",
        "# Make new predictions with the reduced model\n",
        "Y_hat_reduced = X_reduced @ theta_hat_reduced\n",
        "\n",
        "# Compute R^2 for the reduced model\n",
        "R_squared_reduced = compute_r_squared(Y, Y_hat_reduced)\n",
        "print(f\"{R_squared_reduced}\")\n"
      ]
    },
    {
      "cell_type": "code",
      "execution_count": null,
      "metadata": {
        "id": "mNI37-m5-T3-",
        "outputId": "771a1fa5-074b-4bec-ca17-bf5002880785",
        "colab": {
          "base_uri": "https://localhost:8080/"
        }
      },
      "outputs": [
        {
          "output_type": "stream",
          "name": "stdout",
          "text": [
            "R^2 (SLR Model with AST): 0.4570055507968598\n"
          ]
        }
      ],
      "source": [
        "# Use intercept, AST only (SLR)\n",
        "# Use only intercept and AST\n",
        "df_slr = pd.DataFrame({'AST': AST})\n",
        "df_slr.insert(0, 'Bias', 1)  # Insert bias term\n",
        "\n",
        "# Convert to numpy array\n",
        "X_slr = df_slr.values\n",
        "\n",
        "# Recompute theta_hat using the single feature (AST)\n",
        "theta_hat_slr = least_squares_estimate(X_slr, Y)\n",
        "\n",
        "# Make new predictions with the SLR model\n",
        "Y_hat_slr = X_slr @ theta_hat_slr\n",
        "\n",
        "# Compute R^2 for the SLR model\n",
        "R_squared_slr = compute_r_squared(Y, Y_hat_slr)\n",
        "print(f\"R^2 (SLR Model with AST): {R_squared_slr}\")\n"
      ]
    },
    {
      "cell_type": "code",
      "execution_count": null,
      "metadata": {
        "id": "HVYBQKwr-T3-",
        "outputId": "ade0a454-ded3-439e-b8f6-6525a377a9e7",
        "colab": {
          "base_uri": "https://localhost:8080/"
        }
      },
      "outputs": [
        {
          "output_type": "stream",
          "name": "stdout",
          "text": [
            "theta_hat (AST-only model):\n",
            "[[3.98332315]\n",
            " [2.39888152]]\n",
            "R^2 (AST-only model): 0.4570055507968598\n"
          ]
        }
      ],
      "source": [
        "\n",
        "AST = nba['AST']\n",
        "df_ast_only = pd.DataFrame({'AST': AST})\n",
        "df_ast_only.insert(0, 'Bias', 1)  # Insert bias term\n",
        "\n",
        "# Convert to numpy array\n",
        "X_ast_only = df_ast_only.values\n",
        "\n",
        "# Prepare Y\n",
        "Y = nba['PTS'].values.reshape(-1, 1)\n",
        "\n",
        "# Define the least squares estimate function\n",
        "def least_squares_estimate(X, Y):\n",
        "    # Compute X transpose\n",
        "    X_transpose = X.T\n",
        "\n",
        "    # Compute X^T * X\n",
        "    XtX = X_transpose @ X\n",
        "\n",
        "    # Compute the inverse of XtX\n",
        "    XtX_inv = inv(XtX)\n",
        "\n",
        "    # Compute X^T * Y\n",
        "    XtY = X_transpose @ Y\n",
        "\n",
        "    # Compute theta_hat using the formula (X^T * X)^(-1) * X^T * Y\n",
        "    theta_hat = XtX_inv @ XtY\n",
        "\n",
        "    return theta_hat\n",
        "\n",
        "# Compute theta_hat using the AST-only model\n",
        "theta_hat_ast_only = least_squares_estimate(X_ast_only, Y)\n",
        "print(f\"theta_hat (AST-only model):\\n{theta_hat_ast_only}\")\n",
        "\n",
        "# Make predictions using the AST-only model\n",
        "Y_hat_ast_only = X_ast_only @ theta_hat_ast_only\n",
        "\n",
        "# Compute R^2 for the AST-only model\n",
        "def compute_r_squared(Y, Y_hat):\n",
        "    # Calculate the Total Sum of Squares (TSS)\n",
        "    Y_mean = np.mean(Y)\n",
        "    TSS = np.sum((Y - Y_mean) ** 2)\n",
        "\n",
        "    # Calculate the Residual Sum of Squares (RSS)\n",
        "    RSS = np.sum((Y - Y_hat) ** 2)\n",
        "\n",
        "    # Calculate R^2\n",
        "    R_squared = 1 - (RSS / TSS)\n",
        "\n",
        "    return R_squared\n",
        "\n",
        "R_squared_ast_only = compute_r_squared(Y, Y_hat_ast_only)\n",
        "print(f\"R^2 (AST-only model): {R_squared_ast_only}\")\n"
      ]
    },
    {
      "cell_type": "code",
      "execution_count": null,
      "metadata": {
        "id": "d6AscYjq-T3-",
        "outputId": "6949f9fc-4cb9-482f-872c-6ce2eb3e753b",
        "colab": {
          "base_uri": "https://localhost:8080/"
        }
      },
      "outputs": [
        {
          "output_type": "execute_result",
          "data": {
            "text/plain": [
              "array([[-0.29253798],\n",
              "       [ 2.51705703],\n",
              "       [ 0.05075571],\n",
              "       [ 0.31307653]])"
            ]
          },
          "metadata": {},
          "execution_count": 143
        }
      ],
      "source": [
        "theta_hat"
      ]
    },
    {
      "cell_type": "markdown",
      "metadata": {
        "id": "vo0A33bR-T3-"
      },
      "source": [
        "Comparing these Multiple $R^2$ together:"
      ]
    },
    {
      "cell_type": "code",
      "execution_count": null,
      "metadata": {
        "id": "LzCmPVjL-T4D",
        "outputId": "899ae2b6-9d79-4a35-b8e0-d081ed79212d",
        "colab": {
          "base_uri": "https://localhost:8080/"
        }
      },
      "outputs": [
        {
          "output_type": "stream",
          "name": "stdout",
          "text": [
            "(SLR) intercept, AST:     0.4570055507968598\n",
            "intercept, 3PA, AST:      0.6087862763665718\n",
            "intercept, FG, 3PA, AST:  0.9883162128703227\n"
          ]
        }
      ],
      "source": [
        "# print(\"(SLR) intercept, AST:    \", r2_ast_only)\n",
        "# print(\"intercept, 3PA, AST:     \", r2_ast_3pa)\n",
        "# print(\"intercept, FG, 3PA, AST: \", r2_ast_fg_3pa)\n",
        "\n",
        "\n",
        "print(\"(SLR) intercept, AST:    \", R_squared_ast_only)\n",
        "print(\"intercept, 3PA, AST:     \", R_squared_reduced)\n",
        "print(\"intercept, FG, 3PA, AST: \", R_squared)\n"
      ]
    },
    {
      "cell_type": "markdown",
      "metadata": {
        "id": "gFQl4RBN-T4D"
      },
      "source": [
        "Because of how basketball is scored, knowing Field Goals `FG` *and* 3 point goal attempts `3PA` will reliably tell you how many total points a player scored in that game. This is assuming NBA players make a good number of their 3 pointers."
      ]
    },
    {
      "cell_type": "markdown",
      "metadata": {
        "id": "cIBEVgMV-T4E"
      },
      "source": [
        "Side note, if you wanted to check that Multiple R^2 for Simple Linear Regression is indeed correlation coefficient $r^2$:"
      ]
    },
    {
      "cell_type": "code",
      "execution_count": null,
      "metadata": {
        "id": "Wf2m_Iq4-T4E",
        "outputId": "aa865f7b-4c4e-400f-9216-aac6e6ff659f",
        "colab": {
          "base_uri": "https://localhost:8080/"
        }
      },
      "outputs": [
        {
          "output_type": "execute_result",
          "data": {
            "text/plain": [
              "0.4570055507968595"
            ]
          },
          "metadata": {},
          "execution_count": 146
        }
      ],
      "source": [
        "r = np.corrcoef(nba['AST'], nba['PTS'])[0,1]\n",
        "r ** 2"
      ]
    },
    {
      "cell_type": "code",
      "source": [],
      "metadata": {
        "id": "qUa87avAW83n"
      },
      "execution_count": null,
      "outputs": []
    }
  ],
  "metadata": {
    "kernelspec": {
      "display_name": "Python 3 (ipykernel)",
      "language": "python",
      "name": "python3"
    },
    "language_info": {
      "codemirror_mode": {
        "name": "ipython",
        "version": 3
      },
      "file_extension": ".py",
      "mimetype": "text/x-python",
      "name": "python",
      "nbconvert_exporter": "python",
      "pygments_lexer": "ipython3",
      "version": "3.11.0"
    },
    "colab": {
      "provenance": []
    }
  },
  "nbformat": 4,
  "nbformat_minor": 0
}